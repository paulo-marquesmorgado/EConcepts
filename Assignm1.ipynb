{
 "cells": [
  {
   "cell_type": "markdown",
   "id": "76aeb91e-59f5-462d-bc00-8b43a6a8c40d",
   "metadata": {},
   "source": [
    "# Economic Concepts Week 2, Assignment 1"
   ]
  },
  {
   "cell_type": "code",
   "execution_count": 2,
   "id": "e8338b75-fbad-4ff2-a6ca-eb65e00950e9",
   "metadata": {
    "tags": []
   },
   "outputs": [],
   "source": [
    "StudentName   = \"Klein\"\n",
    "StudentNumber = \"1234567\"\n",
    "directory_path = r'C:\\Users\\MarqP\\OneDrive - Hogeschool Rotterdam\\RMI-2023-24\\Block1\\MaritimeSupplyChain\\Economic Concepts 2023 OP1\\week2-GDP\\OECD_Data'\n",
    "file_name = \"SNA_TABLE1_ARCHIVE_06092023122529878.csv\"\n",
    "assignment=\"assignment_1\"\n",
    "myheader = 'Economic Concepts Assignment 1 Report'\n",
    "mytitle = 'Inventory Investment Analysis'\n",
    "mysource = 'OECD statistics at stats.oecd.org'"
   ]
  },
  {
   "cell_type": "markdown",
   "id": "0c3eae7c-c5bb-48c3-b3f1-e1b84a4be7a3",
   "metadata": {},
   "source": [
    "## Inventory investment"
   ]
  },
  {
   "cell_type": "markdown",
   "id": "78da8ad6-c0ec-4fc0-b0e9-edf546bf517e",
   "metadata": {},
   "source": [
    "The objective of this assignment is to guide you through a reliable and rich source of macroeconomic data and to \n",
    "show how much you can learn from it by simply plotting the data and making some straightforward calculations.\n"
   ]
  },
  {
   "cell_type": "markdown",
   "id": "f2538dfb-3213-4cf9-a9e3-ebb850e2141d",
   "metadata": {},
   "source": [
    "Please follow the instructions carefully: it is important that you use the correct data and make correct \n",
    "computations."
   ]
  },
  {
   "cell_type": "markdown",
   "id": "9ac2defd-4957-4fdc-aeac-49ef8af1617a",
   "metadata": {},
   "source": [
    "• Consult the Excel file on BrightSpace to see which country you need to make the assignment for."
   ]
  },
  {
   "cell_type": "raw",
   "id": "6966e362-ff12-4b4d-80ed-4a9cd0c44e60",
   "metadata": {
    "tags": []
   },
   "source": [
    "• Go to the website with OECD statistics: stats.oecd.org\n",
    "• Select (in the column at the left):\n",
    "∗ National Accounts\n",
    "→ Annual National Accounts, Archive before 2019 benchmark revisions\n",
    "→ Main Aggregates, Archive before 2019 benchmark revisions\n",
    "→ 1. Gross domestic product (GDP), 2019 archive\n",
    "→ 1. Gross domestic product (GDP), 2019 archive\n",
    "• Click on “Customize” to make the following data selection:\n",
    "∗ Select the country for which you have to make the assignment.\n",
    "∗ Select annual data from 1990 until 2017.\n",
    "∗ For “Transactions”, select “B1_GE - Gross domestic product (expenditure approach)” and “P52 - Changes in \n",
    "inventories”.\n",
    "∗ For “Measure”, select “C - Current prices”.\n",
    "• Click on “Export” to download your data (for instance as an Excel file)."
   ]
  },
  {
   "cell_type": "code",
   "execution_count": 12,
   "id": "50985334-2866-4b65-ba90-73590e32eb6a",
   "metadata": {
    "tags": []
   },
   "outputs": [],
   "source": [
    "import pandas as pd\n",
    "import matplotlib.pyplot as plt\n",
    "import numpy as np\n",
    "from fpdf import FPDF\n",
    "import os"
   ]
  },
  {
   "cell_type": "markdown",
   "id": "4468cda7-2fbe-4893-bdc3-675d659bd45f",
   "metadata": {},
   "source": [
    "## Create the function process_dataframe(df)  \n",
    "The provided code snippet serves to manipulate a DataFrame called 'df' with the goal of creating a new DataFrame 'df_new' that retains specific columns, compacts the DataFrame's index, and removes duplicate rows based on a particular column.\n",
    "\n",
    "Then reshape and prepare a DataFrame named 'df_pivot' for analysis by pivoting df, renaming columns, and resetting the index.\n",
    "Finally, perform data operations on the DataFrames 'df_new' and 'df_pivot,' with the ultimate goal of merging them based on the 'Year' column and calculating the inventory investment as a percentage of GDP."
   ]
  },
  {
   "cell_type": "code",
   "execution_count": 4,
   "id": "e6c04a16-0d09-414e-8d87-df0f98dbbd0f",
   "metadata": {
    "tags": []
   },
   "outputs": [],
   "source": [
    "def process_dataframe(df):\n",
    "    # Create a new DataFrame 'df_new'\n",
    "    selected_columns = ['LOCATION', 'Country', 'Year']\n",
    "    df_new = df[selected_columns]\n",
    "    # Reset the index to compact the DataFrame\n",
    "    df_new.reset_index(drop=True, inplace=True)\n",
    "    # Drop duplicates based on 'Year'\n",
    "    df_new = df_new.drop_duplicates(subset='Year', keep='first')\n",
    "    \n",
    "    # Pivot the DataFrame to separate \"Inventory\" and \"GDP\" columns\n",
    "    df_pivot = df.pivot(index='Year', columns='Transaction', values='Value')\n",
    "    # Rename the columns to match your desired column names\n",
    "    df_pivot = df_pivot.rename(columns={'Changes in inventories': 'Inventory', 'Gross domestic product (expenditure approach)': 'GDP'})\n",
    "    # Reset the index to make \"Year\" a regular column\n",
    "    df_pivot.reset_index(inplace=True)\n",
    "    \n",
    "    # Merge the DataFrames df_new and df_pivot on 'Year'\n",
    "    merged_df = df_new.merge(df_pivot, on=['Year'])\n",
    "    # Compute inventory investment as a percentage of GDP\n",
    "    merged_df['Inv_Perc_GDP'] = (merged_df['Inventory'] / merged_df['GDP']) * 100\n",
    "    merged_df = merged_df.dropna(subset=['Inv_Perc_GDP'])\n",
    "    return merged_df\n"
   ]
  },
  {
   "cell_type": "markdown",
   "id": "979a1e30-3445-4045-9385-b7db40d354d0",
   "metadata": {},
   "source": [
    "### Function to Calculate the statistics"
   ]
  },
  {
   "cell_type": "code",
   "execution_count": 17,
   "id": "7d3ee4e5-7913-476f-82e7-1effea6ba659",
   "metadata": {
    "tags": []
   },
   "outputs": [],
   "source": [
    "def calculate_and_display_stats(this_df):\n",
    "    # Compute statistics\n",
    "    max_inventory_investment = this_df['Inv_Perc_GDP'].max()\n",
    "    min_inventory_investment = this_df['Inv_Perc_GDP'].min()\n",
    "    mean_inventory_investment = this_df['Inv_Perc_GDP'].mean()\n",
    "    std_dev_inventory_investment = this_df['Inv_Perc_GDP'].std()\n",
    "\n",
    "    # Display the results\n",
    "    print(f\"Max Inventory Investment as Percentage of GDP: {max_inventory_investment:.2f}\")\n",
    "    print(f\"Min Inventory Investment as Percentage of GDP: {min_inventory_investment:.2f}\")\n",
    "    print(f\"Mean Inventory Investment as Percentage of GDP: {mean_inventory_investment:.2f}\")\n",
    "    print(f\"Standard Deviation of Inventory Investment as Percentage of GDP: {std_dev_inventory_investment:.2f}\")\n",
    "    print(\"\")\n",
    "    print(f\"It's important to consider the context of each year to interpret these values effectively. For instance, negative percentages may indicate destocking or economic challenges, while positive percentages could imply inventory buildup or economic expansion.\")"
   ]
  },
  {
   "cell_type": "code",
   "execution_count": 6,
   "id": "dba3cdd0-4d66-4c07-b9c3-00d0813e74b7",
   "metadata": {
    "tags": []
   },
   "outputs": [
    {
     "name": "stdout",
     "output_type": "stream",
     "text": [
      "['Changes in inventories' 'Gross domestic product (expenditure approach)'] \n",
      "\n",
      "   LOCATION Country  Year   Inventory           GDP  Inv_Perc_GDP\n",
      "0       KOR   Korea  1990   3732100.0  1.977123e+08      1.887642\n",
      "1       KOR   Korea  1991   4705400.0  2.388772e+08      1.969799\n",
      "2       KOR   Korea  1992   2803800.0  2.732674e+08      1.026028\n",
      "3       KOR   Korea  1993   1895500.0  3.100737e+08      0.611306\n",
      "4       KOR   Korea  1994   6052900.0  3.660542e+08      1.653553\n",
      "5       KOR   Korea  1995   5804000.0  4.289271e+08      1.353144\n",
      "6       KOR   Korea  1996   8253000.0  4.811408e+08      1.715298\n",
      "7       KOR   Korea  1997   7350800.0  5.303471e+08      1.386036\n",
      "8       KOR   Korea  1998 -16933100.0  5.244768e+08     -3.228570\n",
      "9       KOR   Korea  1999   4542300.0  5.768728e+08      0.787401\n",
      "10      KOR   Korea  2000   7804300.0  6.351846e+08      1.228666\n",
      "11      KOR   Korea  2001   5376600.0  6.881649e+08      0.781295\n",
      "12      KOR   Korea  2002   3238700.0  7.619389e+08      0.425060\n",
      "13      KOR   Korea  2003   5388300.0  8.109153e+08      0.664471\n",
      "14      KOR   Korea  2004   7096500.0  8.760331e+08      0.810072\n",
      "15      KOR   Korea  2005  11132800.0  9.197973e+08      1.210354\n",
      "16      KOR   Korea  2006  17740100.0  9.660546e+08      1.836345\n",
      "17      KOR   Korea  2007  18840800.0  1.043258e+09      1.805958\n",
      "18      KOR   Korea  2008  16682100.0  1.104492e+09      1.510386\n",
      "19      KOR   Korea  2009 -33268800.0  1.151708e+09     -2.888649\n",
      "20      KOR   Korea  2010  18333000.0  1.265308e+09      1.448896\n",
      "21      KOR   Korea  2011  35300600.0  1.332681e+09      2.648841\n",
      "22      KOR   Korea  2012  18780800.0  1.377457e+09      1.363440\n",
      "23      KOR   Korea  2013  -2389200.0  1.429445e+09     -0.167142\n",
      "24      KOR   Korea  2014    812300.0  1.486079e+09      0.054661\n",
      "25      KOR   Korea  2015  -7360000.0  1.564124e+09     -0.470551\n",
      "26      KOR   Korea  2016  -7880700.0  1.641786e+09     -0.480008\n",
      "27      KOR   Korea  2017  -2262600.0  1.730398e+09     -0.130756\n"
     ]
    }
   ],
   "source": [
    "# Step 1: Load the CSV file\n",
    "csv_file_path = os.path.join(directory_path, file_name)\n",
    "df = pd.read_csv(csv_file_path)\n",
    "#print(df)\n",
    "# 'Gross domestic product (expenditure approach)'\n",
    "unique_transactions = df['Transaction'].unique()\n",
    "print(unique_transactions,\"\\n\")\n",
    "\n",
    "merged_df = process_dataframe(df)\n",
    "mycountry = str(df['Country'].unique())\n",
    "# Assuming mycountry is a string with '[' and ']' characters around it\n",
    "mycountry = mycountry.strip('[]')\n",
    "print(merged_df)"
   ]
  },
  {
   "cell_type": "markdown",
   "id": "cda5c843-0759-48c0-817f-18d051d3ce27",
   "metadata": {},
   "source": [
    "## Compute statistics"
   ]
  },
  {
   "cell_type": "code",
   "execution_count": 15,
   "id": "fdac1dfd-c559-4cd6-a0a7-3bd58e1ac12c",
   "metadata": {
    "tags": []
   },
   "outputs": [
    {
     "name": "stdout",
     "output_type": "stream",
     "text": [
      "Max Inventory Investment as Percentage of GDP: 2.65\n",
      "Min Inventory Investment as Percentage of GDP: -3.23\n",
      "Mean Inventory Investment as Percentage of GDP: 0.74\n",
      "Standard Deviation of Inventory Investment as Percentage of GDP: 1.33\n",
      "\n",
      "It's important to consider the context of each year to interpret these values effectively. For instance, negative percentages may indicate destocking or economic challenges, while positive percentages could imply inventory buildup or economic expansion.\n"
     ]
    }
   ],
   "source": [
    "# Call the statistics with your 'merged_df' DataFrame\n",
    "calculate_and_display_stats(merged_df)\n",
    "\n",
    "max_inventory_investment = merged_df['Inv_Perc_GDP'].max()\n",
    "min_inventory_investment = merged_df['Inv_Perc_GDP'].min()\n",
    "mean_inventory_investment = merged_df['Inv_Perc_GDP'].mean()\n",
    "std_dev_inventory_investment = merged_df['Inv_Perc_GDP'].std()"
   ]
  },
  {
   "cell_type": "markdown",
   "id": "19c06749-e1f6-4e6b-ab23-e26b6c32122e",
   "metadata": {},
   "source": [
    "## Display Graph and Calculations"
   ]
  },
  {
   "cell_type": "code",
   "execution_count": 9,
   "id": "557bd55e-4355-4ab5-b881-25c63911f952",
   "metadata": {
    "tags": []
   },
   "outputs": [
    {
     "data": {
      "image/png": "[encoded data removed]",
      "text/plain": [
       "<Figure size 1000x600 with 1 Axes>"
      ]
     },
     "metadata": {},
     "output_type": "display_data"
    },
    {
     "name": "stdout",
     "output_type": "stream",
     "text": [
      "Max Inventory Investment as Percentage of GDP: 2.65\n",
      "Min Inventory Investment as Percentage of GDP: -3.23\n",
      "Mean Inventory Investment as Percentage of GDP: 0.74\n",
      "Standard Deviation of Inventory Investment as Percentage of GDP: 1.33\n",
      "\n",
      "It's important to consider the context of each year to interpret these values effectively. For instance, negative percentages may indicate destocking or economic challenges, while positive percentages could imply inventory buildup or economic expansion.\n"
     ]
    }
   ],
   "source": [
    "import seaborn as sns\n",
    "import matplotlib.pyplot as plt\n",
    "\n",
    "# Assuming merged_df contains the data\n",
    "plt.figure(figsize=(10, 6))\n",
    "sns.lineplot(data=merged_df, x='Year', y='Inv_Perc_GDP', marker='o')\n",
    "# plt.title('Inventory Investment as Percentage of GDP Over Time')\n",
    "title = str(f'Inventory Investment as Percentage of GDP Over Time - {mycountry}')\n",
    "mycountry = mycountry.strip('\\'')\n",
    "# Set the title of the plot without single quotes\n",
    "plt.title(title, pad=20)  # The 'pad' parameter adds extra spacing if needed\n",
    "plt.xlabel('Year')\n",
    "plt.ylabel('Inventory Investment as Percentage of GDP')\n",
    "plt.grid(True)\n",
    "# Adjust the x-axis labels\n",
    "# plt.xticks(rotation=90, fontsize=8)  # Rotate x-axis labels for better readability\n",
    "\n",
    "# Save the line graph as an image and add it to the PDF\n",
    "file_name = 'inventory_investment_graph.png'\n",
    "img_file_name = os.path.join(directory_path, file_name)\n",
    "plt.savefig(img_file_name, bbox_inches='tight')\n",
    "\n",
    "plt.show()\n",
    "\n",
    "calculate_and_display_stats(merged_df)\n"
   ]
  },
  {
   "cell_type": "markdown",
   "id": "83a860c4-c24f-4505-987d-b96ea5d8195a",
   "metadata": {},
   "source": [
    "## Exporting the analysis to a PDF file\n",
    "This script is designed to create a structured PDF report that combines text, images, and statistical information, making it useful for generating customized reports in various contexts."
   ]
  },
  {
   "cell_type": "code",
   "execution_count": 16,
   "id": "f89d4a43-c629-42d4-b599-5f9a935859f9",
   "metadata": {
    "tags": []
   },
   "outputs": [
    {
     "name": "stdout",
     "output_type": "stream",
     "text": [
      "PDF report \"C:\\Users\\MarqP\\OneDrive - Hogeschool Rotterdam\\RMI-2023-24\\Block1\\MaritimeSupplyChain\\Economic Concepts 2023 OP1\\week2-GDP\\OECD_Data\\1234567-Klein-assignment_1.pdf\" created successfully.\n"
     ]
    }
   ],
   "source": [
    "# Step 3: Create a PDF Report\n",
    "class PDF(FPDF):\n",
    "    def __init__(self):\n",
    "        super().__init__()\n",
    "        self.page_format = 'A4'\n",
    "        self.w = 210  # Width (mm)\n",
    "        self.h = 297  # Height (mm)\n",
    "        \n",
    "    def header(self):\n",
    "        self.set_font('Arial', 'B', 14)\n",
    "        self.cell(0, 10, myheader, 0, 1, 'C')\n",
    "    def footer(self):  # Define a custom PDF class with A4 page size, footer at 1 cm, and 1 cm spacing to footer\n",
    "        self.set_y(-15)  # 1 cm from the bottom\n",
    "        self.set_font('Arial', 'I', 8)\n",
    "        self.cell(0, 10, 'Page %s' % self.page_no(), 0, 0, 'C')\n",
    "        \n",
    "    def chapter_title(self, title):\n",
    "        self.set_font('Arial', 'B', 12)\n",
    "        self.set_y(30)  # 3 cm from the top\n",
    "        self.cell(0, 10, title, 0, 1, 'L')\n",
    "        # self.ln() #(10)\n",
    "\n",
    "    def chapter_body(self, body):\n",
    "        self.multi_cell(0, 3, '\\n')\n",
    "        self.set_font('Arial', '', 12)\n",
    "        line_height = 3  # 4 mm spacing before/after each line\n",
    "        self.multi_cell(0, line_height, body)\n",
    "        self.ln()\n",
    "\n",
    "    def chapter_body1(self, body):\n",
    "        self.set_font('Arial', '', 9)\n",
    "        line_height = 4  # 4 mm spacing before/after each line\n",
    "        self.multi_cell(0, line_height, body)\n",
    "        self.multi_cell(0, 2, '\\n')\n",
    "        # self.multi_cell(0, line_height, '\\n')\n",
    "        self.ln()\n",
    "    \n",
    "    def chapter_body_small(self, body):\n",
    "        self.set_font('Arial', '', 6)\n",
    "        # self.multi_cell(0, 2, '\\n')\n",
    "        self.multi_cell(0, 1, body)\n",
    "        # self.multi_cell(0, 1, '\\n')\n",
    "        self.ln()\n",
    "\n",
    "# Initialize PDF ------------------------------------------------------------------------\n",
    "# Defining a Custom PDF Class (PDF): This script defines a custom PDF class named PDF \n",
    "# by inheriting from the FPDF class provided by the PyFPDF library. \n",
    "# The custom class is used to structure the PDF document and define how different elements, \n",
    "# such as headers, chapter titles, and body text, should be formatted.\n",
    "# Initializing the PDF Document (pdf): An instance of the custom PDF class is created and named pdf. It's used to initialize the PDF document and add pages to it.\n",
    "pdf = PDF()\n",
    "pdf.add_page()\n",
    "\n",
    "# Add title ----------------------------------------------------------------------------\n",
    "# Adding a Title (title): The script constructs a title for the report by combining mytitle and mycountry. The chapter_title method is then used to add this title to the PDF.\n",
    "title = f'{mytitle} - {mycountry}'\n",
    "pdf.chapter_title(title)\n",
    "\n",
    "# Add name and student number ----------------------------------------------------------\n",
    "# Adding Name and Student Number (StudentName and StudentNumber): The student's name and student number are added to the PDF body using the chapter_body method.\n",
    "pdf.chapter_body(f'Name: {StudentName}\\n\\nStudent Number: {StudentNumber}')\n",
    "\n",
    "# Save the line graph as an image and add it to the PDF --------------------------------\n",
    "# Adding an Image (img_file_name): The script adds an image to the PDF using the image method. The image file is specified by img_file_name, and it's positioned at (x=10) with a width of 190.\n",
    "pdf.image(img_file_name, x=10, w=190)\n",
    "\n",
    "# Add statistics -----------------------------------------------------------------------\n",
    "# Adding Statistical Information: Various statistics related to inventory investment as a percentage of GDP are added to the PDF. Each statistic is added as a separate paragraph in the PDF body using the chapter_body method.\n",
    "pdf.chapter_body_small(f'\\n')\n",
    "pdf.chapter_body(f'Maximum Inventory Investment (% of GDP): {max_inventory_investment:.2f}')\n",
    "pdf.chapter_body1(f'This indicates a relatively high level of inventory investment compared to the size of the economy during that year.\\n')\n",
    "\n",
    "pdf.chapter_body(f'Minimum Inventory Investment (% of GDP): {min_inventory_investment:.2f}')\n",
    "pdf.chapter_body1(f'This suggests that during that year, the value of inventory decreased by a substantial percentage compared to the GDP, which could be indicative of economic challenges or adjustments.\\n')\n",
    "\n",
    "pdf.chapter_body(f'Mean Inventory Investment (% of GDP): {mean_inventory_investment:.2f}')\n",
    "pdf.chapter_body1(f'This indicates that, on average, the value of inventory investments is a relatively small proportion of the country\\'s GDP.\\n')\n",
    "\n",
    "pdf.chapter_body(f'Standard Deviation Inventory Investment (% of GDP): {std_dev_inventory_investment:.2f}')\n",
    "pdf.chapter_body1(f'Some years have higher-than-average inventory investments, while others have lower values.\\n')\n",
    "\n",
    "pdf.chapter_body1(f'\\n')\n",
    "pdf.chapter_body1(f'Source: {mysource}\\n')\n",
    "\n",
    "# Save the PDF -------------------------------------------------------------------------\n",
    "# Saving the PDF: The script specifies a file name for the PDF based on the student's number, name, and the assignment name. It then uses the output method to save the PDF to a file path specified by pdf_file_path.\n",
    "file_name = f'{StudentNumber}-{StudentName}-{assignment}.pdf'\n",
    "pdf_file_name = os.path.join(directory_path, file_name)\n",
    "\n",
    "pdf_file_path = pdf_file_name\n",
    "pdf.output(pdf_file_path)\n",
    "\n",
    "# Display success message --------------------------------------------------------------\n",
    "# Displaying a Success Message: Finally, the script prints a success message indicating that the PDF report has been created successfully, with the name of the generated PDF file.\n",
    "print(f'PDF report \"{pdf_file_name}\" created successfully.')"
   ]
  },
  {
   "cell_type": "code",
   "execution_count": null,
   "id": "52f73f26-1c89-4306-b3d9-ccddedbd68e7",
   "metadata": {},
   "outputs": [],
   "source": []
  },
  {
   "cell_type": "code",
   "execution_count": null,
   "id": "483268c5-a37b-4fc4-895b-65beabdfef07",
   "metadata": {},
   "outputs": [],
   "source": []
  },
  {
   "cell_type": "code",
   "execution_count": null,
   "id": "4d868b07-f8da-49ca-bce2-f9bf3bd54485",
   "metadata": {},
   "outputs": [],
   "source": []
  },
  {
   "cell_type": "code",
   "execution_count": null,
   "id": "f5b5c78a-7d1e-47c5-beac-afa1536be8de",
   "metadata": {},
   "outputs": [],
   "source": []
  },
  {
   "cell_type": "code",
   "execution_count": null,
   "id": "e66f9a30-e001-49d9-a392-f3586886a1c1",
   "metadata": {},
   "outputs": [],
   "source": []
  },
  {
   "cell_type": "code",
   "execution_count": null,
   "id": "b49dafce-1805-4e80-927f-0967e852fd04",
   "metadata": {},
   "outputs": [],
   "source": []
  }
 ],
 "metadata": {
  "kernelspec": {
   "display_name": "Python 3 (ipykernel)",
   "language": "python",
   "name": "python3"
  },
  "language_info": {
   "codemirror_mode": {
    "name": "ipython",
    "version": 3
   },
   "file_extension": ".py",
   "mimetype": "text/x-python",
   "name": "python",
   "nbconvert_exporter": "python",
   "pygments_lexer": "ipython3",
   "version": "3.11.2"
  }
 },
 "nbformat": 4,
 "nbformat_minor": 5
}
