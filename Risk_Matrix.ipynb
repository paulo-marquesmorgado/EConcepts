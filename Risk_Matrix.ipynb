{
  "nbformat": 4,
  "nbformat_minor": 0,
  "metadata": {
    "colab": {
      "provenance": [],
      "collapsed_sections": [
        "Mgbqzc84Pf-G",
        "2XHTamjx0VqO"
      ]
    },
    "kernelspec": {
      "name": "python3",
      "display_name": "Python 3"
    },
    "language_info": {
      "name": "python"
    }
  },
  "cells": [
    {
      "cell_type": "markdown",
      "source": [
        "#Risk Matrix (Impact vs. Likelihood)"
      ],
      "metadata": {
        "id": "9j_w1uvNPJZg"
      }
    },
    {
      "cell_type": "markdown",
      "source": [
        "___\n",
        "## Step 0: Definitions and support functions\n",
        "---\n",
        "######@Script  [Run the script below]"
      ],
      "metadata": {
        "id": "Mgbqzc84Pf-G"
      }
    },
    {
      "cell_type": "code",
      "source": [
        "import pandas as pd\n",
        "import numpy as np\n",
        "import matplotlib.pyplot as plt\n",
        "from IPython.display import HTML, display  # Import HTML from IPython.display\n",
        "\n",
        "# Define the version variable\n",
        "version = 1  # Change this to 2 to use the second set of levels\n",
        "\n",
        "if version == 1:\n",
        "    # Version 1: Basic impact and likelihood levels\n",
        "    impact_levels = [\"Low\", \"Medium\", \"High\"]\n",
        "    impact_levels_grade = [impact_levels.index(level)+1 for level in impact_levels]\n",
        "    likelihood_levels = [\"Low\", \"Medium\", \"High\"]\n",
        "    likelihood_levels_grade = [likelihood_levels.index(level)+1 for level in likelihood_levels]\n",
        "\n",
        "elif version == 2:\n",
        "    # Version 2: Updated impact and likelihood levels\n",
        "    impact_levels = [\"Insignificant\", \"Minor\", \"Moderate\", \"Major\", \"Catastrophic\"]\n",
        "    impact_levels_grade = [i + 1 for i in range(len(impact_levels))]  # Grade from 1 to 5\n",
        "    likelihood_levels = [\"Almost certain\", \"Likely\", \"Possible\", \"Unlikely\", \"Rare\"]\n",
        "    likelihood_levels = [\"Rare\", \"Unlikely\", \"Possible\", \"Likely\",\"Almost certain\"]\n",
        "    likelihood_levels_grade = [i + 1 for i in range(len(likelihood_levels))]  # Grade from 1 to 5\n",
        "\n",
        "from matplotlib.colors import ListedColormap\n",
        "\n",
        "priority_levels = [\n",
        "    (4,'🔴 Critical', 'Immediate action required.', 'red'),\n",
        "    (3,'🟠 High', 'Needs proactive management.', 'orange'),\n",
        "    (2,'🟡 Moderate', 'Manageable but requires attention.', 'yellow'),\n",
        "    (1,'🟢 Low', 'Long-term improvement measure.', 'green')]\n",
        "\n",
        "\n",
        "priority_levels_grade = []\n",
        "priority_levels_color = []\n",
        "for level in priority_levels:\n",
        "  priority_levels_grade.append(level[0])\n",
        "  priority_levels_color.append(level[3])\n",
        "priority_levels_color_reversed = priority_levels_color.reverse()\n",
        "unique_risk_scores = sorted(list(set([i * j for i in impact_levels_grade for j in likelihood_levels_grade])))\n",
        "\n",
        "table_mapping = []\n",
        "min_score = min(unique_risk_scores)\n",
        "max_score = max(unique_risk_scores)\n",
        "num_priority_levels = len(priority_levels)\n",
        "\n",
        "# Normalize risk scores\n",
        "normalized_risk_scores = [(score - min_score) / (max_score - min_score) for score in unique_risk_scores]\n",
        "# Normalize priority levels grades\n",
        "normalized_priority_levels_grade = [(grade - min(priority_levels_grade)) / (max(priority_levels_grade) - min(priority_levels_grade)) for grade in priority_levels_grade]\n",
        "\n",
        "for i, score in enumerate(unique_risk_scores):\n",
        "    # Find the closest priority level\n",
        "    closest_priority_index = min(range(len(normalized_priority_levels_grade)), key=lambda j: abs(normalized_risk_scores[i] - normalized_priority_levels_grade[j]))\n",
        "    table_mapping.append((score, priority_levels[closest_priority_index][1], priority_levels_color[closest_priority_index]))  # Include color\n",
        "\n",
        "\n",
        "\n",
        "# Create the matrix\n",
        "matrix = np.zeros((len(impact_levels), len(likelihood_levels)), dtype=int)  # Change dtype to int\n",
        "matrix_text = np.empty((len(impact_levels), len(likelihood_levels)), dtype=object)  # To store text\n",
        "color_matrix = np.empty((len(impact_levels), len(likelihood_levels)), dtype=object)  # To store colors\n",
        "\n",
        "\n",
        "for i, impact in enumerate(impact_levels):\n",
        "    for j, likelihood in enumerate(likelihood_levels):\n",
        "        risk_score = impact_levels_grade[i] * likelihood_levels_grade[j]\n",
        "        for score, priority, color in table_mapping: # unpack the three values and ignore the color using _\n",
        "            if risk_score == score:\n",
        "                # Get the priority level grade instead of the string\n",
        "                priority_level_grade = next((level[0] for level in priority_levels if level[1] == priority), None)\n",
        "                priority_level_grade_text = next((level[1] for level in priority_levels if level[1] == priority), None)\n",
        "                # Extract the right part after splitting by \"  \"\n",
        "\n",
        "                matrix[i, j] = priority_level_grade\n",
        "                matrix_text[i, j] = priority_level_grade_text\n",
        "                color_matrix[i, j] = color  # Store the corresponding color\n",
        "                break\n",
        "\n",
        "# Remove the first two characters from each element\n",
        "matrix_text_basic = np.array([[text[2:] for text in row] for row in matrix_text])\n",
        "\n",
        "\n",
        "# Create a custom colormap\n",
        "custom_cmap = ListedColormap(priority_levels_color)\n",
        "\n",
        "\n",
        "import matplotlib.pyplot as plt\n",
        "import numpy as np\n",
        "\n",
        "def plot_risk_matrix(matrix, matrix_text, impact_levels, likelihood_levels, custom_cmap):\n",
        "    \"\"\"\n",
        "    Plots a risk matrix.\n",
        "\n",
        "    Parameters:\n",
        "    - matrix: 2D array of numerical values representing the risk scores.\n",
        "    - matrix_text: 2D array of text labels to display in the matrix.\n",
        "    - impact_levels: List of impact levels for the y-axis.\n",
        "    - likelihood_levels: List of likelihood levels for the x-axis.\n",
        "    - custom_cmap: Colormap to use for the matrix.\n",
        "    \"\"\"\n",
        "\n",
        "    if version == 1:\n",
        "        fig, ax = plt.subplots()\n",
        "    elif version == 2:\n",
        "        fig, ax = plt.subplots(figsize=(12, 8))  # Width: 12 inches, Height: 8 inches\n",
        "\n",
        "    # Display the matrix\n",
        "    im = ax.imshow(matrix, cmap=custom_cmap, vmin=1, vmax=len(np.unique(matrix)))  # Set vmin and vmax based on your data range\n",
        "\n",
        "    # Add labels\n",
        "    ax.set_xticks(np.arange(len(likelihood_levels)))\n",
        "    ax.set_yticks(np.arange(len(impact_levels)))\n",
        "    ax.set_xticklabels(likelihood_levels)\n",
        "    ax.set_yticklabels(impact_levels)\n",
        "\n",
        "    # Rotate x-axis labels\n",
        "    plt.setp(ax.get_xticklabels(), rotation=45, ha=\"right\", rotation_mode=\"anchor\")\n",
        "\n",
        "    # Loop over data dimensions and create text annotations.\n",
        "    for i in range(len(impact_levels)):\n",
        "        for j in range(len(likelihood_levels)):\n",
        "            # Determine the text color based on the background color\n",
        "            bg_color = custom_cmap(matrix[i, j])  # Get the background color\n",
        "            text_color = 'white' if np.mean(bg_color[:3]) < 0.5 else 'black'  # Use brightness to determine text color\n",
        "            text = ax.text(j, i, matrix_text[i, j], ha=\"center\", va=\"center\", color=text_color)\n",
        "\n",
        "    # Invert the y-axis to have 'Low' at the bottom and 'High' at the top\n",
        "    ax.invert_yaxis()\n",
        "\n",
        "    ax.set_title(\"Risk Matrix\")\n",
        "    ax.set_xlabel(\"Likelihood\")\n",
        "    ax.set_ylabel(\"Impact\")\n",
        "    fig.tight_layout()\n",
        "    plt.show()\n",
        "    return\n",
        "\n",
        "\n",
        "# Create a list of dictionaries for the DataFrame\n",
        "data = []\n",
        "for i in range(len(impact_levels)):\n",
        "    for j in range(len(likelihood_levels)):\n",
        "        data.append({\n",
        "            'Impact': impact_levels[i],\n",
        "            'Likelihood': likelihood_levels[j],\n",
        "            'Priority Level': matrix[i, j],\n",
        "            'Priority Level Category': matrix_text[i, j]\n",
        "        })\n",
        "\n",
        "# Create the DataFrame\n",
        "df_sorted = pd.DataFrame(data).sort_values(by='Priority Level', ascending=False)  # Order the DataFrame by 'Priority Level'\n",
        "df_filtered = df_sorted[['Impact', 'Likelihood', 'Priority Level Category']]  # Select only the desired columns\n",
        "\n",
        "\n",
        "def display_processed_matrix(df):\n",
        "    \"\"\"\n",
        "    Executes the AHP analysis based on the provided criteria matrix.\n",
        "    \"\"\"\n",
        "    # Function to format values\n",
        "    def format_value(val):\n",
        "        if pd.isna(val):\n",
        "            return \"\"  # Display as an empty string for NaN values\n",
        "        if isinstance(val, (int, float)):\n",
        "            # Check if the value is equal to its integer representation\n",
        "            if val == int(val):\n",
        "                return f\"{int(val)}\"  # Display as integer (no decimals)\n",
        "            else:\n",
        "                return f\"{val:.1f}\"  # Display with one decimal for floats\n",
        "        return val  # Return the value as is if it's neither\n",
        "\n",
        "    # Apply the formatting function to the DataFrame\n",
        "    # formatted_df = df.map(format_value)\n",
        "    formatted_df = df\n",
        "    # Style the DataFrame\n",
        "    styled_df = formatted_df.style.set_properties(**{'text-align': 'center'})\n",
        "\n",
        "    # Set table styles for headers and values\n",
        "    styled_df = styled_df.set_table_styles([\n",
        "        {'selector': 'th', 'props': [('text-align', 'left'), ('font-weight', 'bold'), ('border', '1px solid black')]},  # Left align headers, make them bold, and add borders\n",
        "        {'selector': 'td', 'props': [('text-align', 'left'), ('border', '1px solid black')]},   # Center align values and add borders  /center\n",
        "        {'selector': 'td:first-child', 'props': [('text-align', 'left'), ('border', '1px solid black')]},  # Left align the first column (criteria) and add borders\n",
        "        {'selector': 'tr:hover td', 'props': [('background-color', '#f5f5f5')]},  # Optional: Highlight on hover\n",
        "    ])\n",
        "\n",
        "    # Display the styled DataFrame\n",
        "    display(styled_df)\n",
        "    print(\"\\n\")\n",
        "\n",
        "#Prepare the dictionary risk_matrix\n",
        "risk_matrix = {}\n",
        "for index, row in df_sorted.iterrows():\n",
        "    impact = row['Impact']\n",
        "    likelihood = row['Likelihood']\n",
        "    priority_category = row['Priority Level Category']\n",
        "    # Find the corresponding description in priority_levels\n",
        "    description = next((level[2] for level in priority_levels if level[1] == priority_category), None)\n",
        "    # priority_grade = row['Priority Level']\n",
        "    # Calculate priority_grade\n",
        "    impact_level_grade = impact_levels_grade[impact_levels.index(impact)]\n",
        "    likelihood_level_grade = likelihood_levels_grade[likelihood_levels.index(likelihood)]\n",
        "    priority_grade = impact_level_grade * likelihood_level_grade\n",
        "    risk_matrix[(impact, likelihood)] = (priority_category, description, priority_grade)\n",
        "\n",
        "# risk_matrix"
      ],
      "metadata": {
        "id": "uvWg-h0evdTk"
      },
      "execution_count": 28,
      "outputs": []
    },
    {
      "cell_type": "markdown",
      "source": [
        "##Display Matrix"
      ],
      "metadata": {
        "id": "hJVKE154koKj"
      }
    },
    {
      "cell_type": "code",
      "source": [
        "# Call the function to plot\n",
        "plot_risk_matrix(matrix, matrix_text_basic, impact_levels, likelihood_levels, custom_cmap)\n",
        "print(\"\\nRisk Matrix:\\n\")\n",
        "# Display the DataFrame\n",
        "df_html = df_filtered.to_html(index=False)  # Convert DataFrame to HTML\n",
        "display(HTML(f\"<div style='display: flex;'><div style='flex: 1;'>{df_html}</div></div>\"))\n"
      ],
      "metadata": {
        "colab": {
          "base_uri": "https://localhost:8080/",
          "height": 854
        },
        "id": "xmCUm-s3fELb",
        "outputId": "9b441246-3e94-4df4-9264-3600478cf206"
      },
      "execution_count": 29,
      "outputs": [
        {
          "output_type": "display_data",
          "data": {
            "text/plain": [
              "<Figure size 640x480 with 1 Axes>"
            ],
            "image/png": "[encoded data removed]"
          },
          "metadata": {}
        },
        {
          "output_type": "stream",
          "name": "stdout",
          "text": [
            "\n",
            "Risk Matrix:\n",
            "\n"
          ]
        },
        {
          "output_type": "display_data",
          "data": {
            "text/plain": [
              "<IPython.core.display.HTML object>"
            ],
            "text/html": [
              "<div style='display: flex;'><div style='flex: 1;'><table border=\"1\" class=\"dataframe\">\n",
              "  <thead>\n",
              "    <tr style=\"text-align: right;\">\n",
              "      <th>Impact</th>\n",
              "      <th>Likelihood</th>\n",
              "      <th>Priority Level Category</th>\n",
              "    </tr>\n",
              "  </thead>\n",
              "  <tbody>\n",
              "    <tr>\n",
              "      <td>High</td>\n",
              "      <td>High</td>\n",
              "      <td>🔴 Critical</td>\n",
              "    </tr>\n",
              "    <tr>\n",
              "      <td>Medium</td>\n",
              "      <td>High</td>\n",
              "      <td>🟠 High</td>\n",
              "    </tr>\n",
              "    <tr>\n",
              "      <td>High</td>\n",
              "      <td>Medium</td>\n",
              "      <td>🟠 High</td>\n",
              "    </tr>\n",
              "    <tr>\n",
              "      <td>Low</td>\n",
              "      <td>High</td>\n",
              "      <td>🟡 Moderate</td>\n",
              "    </tr>\n",
              "    <tr>\n",
              "      <td>Medium</td>\n",
              "      <td>Medium</td>\n",
              "      <td>🟡 Moderate</td>\n",
              "    </tr>\n",
              "    <tr>\n",
              "      <td>High</td>\n",
              "      <td>Low</td>\n",
              "      <td>🟡 Moderate</td>\n",
              "    </tr>\n",
              "    <tr>\n",
              "      <td>Low</td>\n",
              "      <td>Low</td>\n",
              "      <td>🟢 Low</td>\n",
              "    </tr>\n",
              "    <tr>\n",
              "      <td>Low</td>\n",
              "      <td>Medium</td>\n",
              "      <td>🟢 Low</td>\n",
              "    </tr>\n",
              "    <tr>\n",
              "      <td>Medium</td>\n",
              "      <td>Low</td>\n",
              "      <td>🟢 Low</td>\n",
              "    </tr>\n",
              "  </tbody>\n",
              "</table></div></div>"
            ]
          },
          "metadata": {}
        }
      ]
    },
    {
      "cell_type": "markdown",
      "source": [
        ".\n",
        "___\n",
        "## Step 1: Input Impact and Likelihood\n",
        "---\n",
        "######@Script  [Run the script below]"
      ],
      "metadata": {
        "id": "2XHTamjx0VqO"
      }
    },
    {
      "cell_type": "code",
      "source": [
        "def determine_priority_and_action(impact, likelihood):\n",
        "    \"\"\"Determines the priority level and recommended action based on impact and likelihood.\"\"\"\n",
        "    # Get impact and likelihood grades\n",
        "    impact_level_grade = impact_levels_grade[impact_levels.index(impact)]\n",
        "    likelihood_level_grade = likelihood_levels_grade[likelihood_levels.index(likelihood)]\n",
        "\n",
        "    # Calculate priority grade\n",
        "    priority_grade = impact_level_grade * likelihood_level_grade\n",
        "\n",
        "    # Determine priority category and action based on priority grade and table_mapping\n",
        "    for score, priority_category, color in table_mapping:  # Iterate through table_mapping\n",
        "        if priority_grade == score:\n",
        "            # Find the corresponding description in priority_levels\n",
        "            description = next((level[2] for level in priority_levels if level[1] == priority_category), None)\n",
        "            return priority_category, description, priority_grade  # Return priority level, description, and priority grade\n",
        "\n",
        "    # Handle cases where priority grade doesn't match any in table_mapping (shouldn't happen normally)\n",
        "    return \"Unknown\", \"Unknown\", priority_grade  # Return \"Unknown\" if not found\n",
        "\n",
        "def get_risk_data(input_type='user'):\n",
        "    \"\"\"Gets risk data from user input or returns default data.\"\"\"\n",
        "    if input_type == 'default':\n",
        "        return [\n",
        "            [\"Strategic Misalignment\", \"Delays decision-making, misalignment across units.\", \"High\", \"High\"],\n",
        "            [\"Financial Instability\", \"Restructuring costs require financial planning.\", \"High\", \"Medium\"],\n",
        "            [\"Employee Resistance\", \"Cultural resistance may slow adoption.\", \"Medium\", \"High\"],\n",
        "            [\"Operational Disruptions\", \"Temporary inefficiencies during restructuring.\", \"Medium\", \"Medium\"],\n",
        "            [\"Cultural Disruption\", \"Addressable through leadership engagement.\", \"Low\", \"Medium\"]\n",
        "        ]\n",
        "    else:\n",
        "        num_risks = int(input(\"Enter the number of risks identified: \"))\n",
        "        risk_data = []\n",
        "        for i in range(num_risks):\n",
        "            risk_description = input(f\"\\nEnter description for Risk {i+1}: \")\n",
        "            justification = input(f\"Enter justification for Risk {i+1}: \")\n",
        "            impact = \"\"\n",
        "            while impact not in impact_levels:\n",
        "                impact = input(f\"Enter impact for Risk {i+1} ({', '.join(impact_levels)}): \").capitalize()\n",
        "            likelihood = \"\"\n",
        "            while likelihood not in likelihood_levels:\n",
        "                likelihood = input(f\"Enter likelihood for Risk {i+1} ({', '.join(likelihood_levels)}): \").capitalize()\n",
        "            risk_data.append([risk_description, justification, impact, likelihood])\n",
        "        return risk_data\n",
        "\n",
        "# risk_data = get_risk_data(input_type='default')\n",
        "# risk_data"
      ],
      "metadata": {
        "id": "LLa24I-xMenD"
      },
      "execution_count": 30,
      "outputs": []
    },
    {
      "cell_type": "markdown",
      "source": [
        "##Input Risks, Impact, and Likelihood"
      ],
      "metadata": {
        "id": "OK-XlPXq0t3F"
      }
    },
    {
      "cell_type": "code",
      "source": [
        "# Get risk data\n",
        "# risk_data = get_risk_data(input_type='default')\n",
        "risk_data = get_risk_data()\n",
        "# Create a Pandas DataFrame\n",
        "columns = [\"Risk Description\", \"Justification\", \"Impact\", \"Likelihood\", \"Priority Level\", \"Action\"]\n",
        "df = pd.DataFrame(risk_data, columns=columns[:-2])\n",
        "# Calculate priority level and action\n",
        "df[\"Priority Level\"] = df.apply(lambda row: determine_priority_and_action(row[\"Impact\"], row[\"Likelihood\"])[0], axis=1)\n",
        "df[\"Action\"] = df.apply(lambda row: determine_priority_and_action(row[\"Impact\"], row[\"Likelihood\"])[1], axis=1)\n",
        "df[\"priority_grade\"] = df.apply(lambda row: determine_priority_and_action(row[\"Impact\"], row[\"Likelihood\"])[2], axis=1)\n",
        "\n",
        "# Convert \"Priority Level\" column to categorical with the correct order\n",
        "priority_order = [level[1] for level in priority_levels] # Extract priority labels from priority_levels\n",
        "df['Priority Level'] = pd.Categorical(df['Priority Level'], categories=priority_order, ordered=True)\n",
        "df = df.sort_values(by='priority_grade', ascending=False) # Sort by 'Priority Level' in descending order\n",
        "# del df[\"priority_grade\"]\n",
        "\n",
        "display(HTML(\"<h2>Risk Matrix </h2>\"))\n",
        "# display(criteria_matrix)\n",
        "display_processed_matrix(df.drop(columns=['priority_grade'], errors='ignore'))\n"
      ],
      "metadata": {
        "id": "dG4DWDxcHP2d",
        "colab": {
          "base_uri": "https://localhost:8080/",
          "height": 297
        },
        "outputId": "bbc0cce8-d46b-46b8-89b0-623295226621"
      },
      "execution_count": 32,
      "outputs": [
        {
          "output_type": "display_data",
          "data": {
            "text/plain": [
              "<IPython.core.display.HTML object>"
            ],
            "text/html": [
              "<h2>Risk Matrix </h2>"
            ]
          },
          "metadata": {}
        },
        {
          "output_type": "display_data",
          "data": {
            "text/plain": [
              "<pandas.io.formats.style.Styler at 0x7968a4c5a010>"
            ],
            "text/html": [
              "<style type=\"text/css\">\n",
              "#T_45e1c th {\n",
              "  text-align: left;\n",
              "  font-weight: bold;\n",
              "  border: 1px solid black;\n",
              "}\n",
              "#T_45e1c td {\n",
              "  text-align: left;\n",
              "  border: 1px solid black;\n",
              "}\n",
              "#T_45e1c td:first-child {\n",
              "  text-align: left;\n",
              "  border: 1px solid black;\n",
              "}\n",
              "#T_45e1c tr:hover td {\n",
              "  background-color: #f5f5f5;\n",
              "}\n",
              "#T_45e1c_row0_col0, #T_45e1c_row0_col1, #T_45e1c_row0_col2, #T_45e1c_row0_col3, #T_45e1c_row0_col4, #T_45e1c_row0_col5, #T_45e1c_row1_col0, #T_45e1c_row1_col1, #T_45e1c_row1_col2, #T_45e1c_row1_col3, #T_45e1c_row1_col4, #T_45e1c_row1_col5, #T_45e1c_row2_col0, #T_45e1c_row2_col1, #T_45e1c_row2_col2, #T_45e1c_row2_col3, #T_45e1c_row2_col4, #T_45e1c_row2_col5, #T_45e1c_row3_col0, #T_45e1c_row3_col1, #T_45e1c_row3_col2, #T_45e1c_row3_col3, #T_45e1c_row3_col4, #T_45e1c_row3_col5, #T_45e1c_row4_col0, #T_45e1c_row4_col1, #T_45e1c_row4_col2, #T_45e1c_row4_col3, #T_45e1c_row4_col4, #T_45e1c_row4_col5 {\n",
              "  text-align: center;\n",
              "}\n",
              "</style>\n",
              "<table id=\"T_45e1c\" class=\"dataframe\">\n",
              "  <thead>\n",
              "    <tr>\n",
              "      <th class=\"blank level0\" >&nbsp;</th>\n",
              "      <th id=\"T_45e1c_level0_col0\" class=\"col_heading level0 col0\" >Risk Description</th>\n",
              "      <th id=\"T_45e1c_level0_col1\" class=\"col_heading level0 col1\" >Justification</th>\n",
              "      <th id=\"T_45e1c_level0_col2\" class=\"col_heading level0 col2\" >Impact</th>\n",
              "      <th id=\"T_45e1c_level0_col3\" class=\"col_heading level0 col3\" >Likelihood</th>\n",
              "      <th id=\"T_45e1c_level0_col4\" class=\"col_heading level0 col4\" >Priority Level</th>\n",
              "      <th id=\"T_45e1c_level0_col5\" class=\"col_heading level0 col5\" >Action</th>\n",
              "    </tr>\n",
              "  </thead>\n",
              "  <tbody>\n",
              "    <tr>\n",
              "      <th id=\"T_45e1c_level0_row0\" class=\"row_heading level0 row0\" >0</th>\n",
              "      <td id=\"T_45e1c_row0_col0\" class=\"data row0 col0\" >Strategic Misalignment</td>\n",
              "      <td id=\"T_45e1c_row0_col1\" class=\"data row0 col1\" >Delays decision-making, misalignment across units.</td>\n",
              "      <td id=\"T_45e1c_row0_col2\" class=\"data row0 col2\" >High</td>\n",
              "      <td id=\"T_45e1c_row0_col3\" class=\"data row0 col3\" >High</td>\n",
              "      <td id=\"T_45e1c_row0_col4\" class=\"data row0 col4\" >🔴 Critical</td>\n",
              "      <td id=\"T_45e1c_row0_col5\" class=\"data row0 col5\" >Immediate action required.</td>\n",
              "    </tr>\n",
              "    <tr>\n",
              "      <th id=\"T_45e1c_level0_row1\" class=\"row_heading level0 row1\" >1</th>\n",
              "      <td id=\"T_45e1c_row1_col0\" class=\"data row1 col0\" >Financial Instability</td>\n",
              "      <td id=\"T_45e1c_row1_col1\" class=\"data row1 col1\" >Restructuring costs require financial planning.</td>\n",
              "      <td id=\"T_45e1c_row1_col2\" class=\"data row1 col2\" >High</td>\n",
              "      <td id=\"T_45e1c_row1_col3\" class=\"data row1 col3\" >Medium</td>\n",
              "      <td id=\"T_45e1c_row1_col4\" class=\"data row1 col4\" >🟠 High</td>\n",
              "      <td id=\"T_45e1c_row1_col5\" class=\"data row1 col5\" >Needs proactive management.</td>\n",
              "    </tr>\n",
              "    <tr>\n",
              "      <th id=\"T_45e1c_level0_row2\" class=\"row_heading level0 row2\" >2</th>\n",
              "      <td id=\"T_45e1c_row2_col0\" class=\"data row2 col0\" >Employee Resistance</td>\n",
              "      <td id=\"T_45e1c_row2_col1\" class=\"data row2 col1\" >Cultural resistance may slow adoption.</td>\n",
              "      <td id=\"T_45e1c_row2_col2\" class=\"data row2 col2\" >Medium</td>\n",
              "      <td id=\"T_45e1c_row2_col3\" class=\"data row2 col3\" >High</td>\n",
              "      <td id=\"T_45e1c_row2_col4\" class=\"data row2 col4\" >🟠 High</td>\n",
              "      <td id=\"T_45e1c_row2_col5\" class=\"data row2 col5\" >Needs proactive management.</td>\n",
              "    </tr>\n",
              "    <tr>\n",
              "      <th id=\"T_45e1c_level0_row3\" class=\"row_heading level0 row3\" >3</th>\n",
              "      <td id=\"T_45e1c_row3_col0\" class=\"data row3 col0\" >Operational Disruptions</td>\n",
              "      <td id=\"T_45e1c_row3_col1\" class=\"data row3 col1\" >Temporary inefficiencies during restructuring.</td>\n",
              "      <td id=\"T_45e1c_row3_col2\" class=\"data row3 col2\" >Medium</td>\n",
              "      <td id=\"T_45e1c_row3_col3\" class=\"data row3 col3\" >Medium</td>\n",
              "      <td id=\"T_45e1c_row3_col4\" class=\"data row3 col4\" >🟡 Moderate</td>\n",
              "      <td id=\"T_45e1c_row3_col5\" class=\"data row3 col5\" >Manageable but requires attention.</td>\n",
              "    </tr>\n",
              "    <tr>\n",
              "      <th id=\"T_45e1c_level0_row4\" class=\"row_heading level0 row4\" >4</th>\n",
              "      <td id=\"T_45e1c_row4_col0\" class=\"data row4 col0\" >Cultural Disruption</td>\n",
              "      <td id=\"T_45e1c_row4_col1\" class=\"data row4 col1\" >Addressable through leadership engagement.</td>\n",
              "      <td id=\"T_45e1c_row4_col2\" class=\"data row4 col2\" >Low</td>\n",
              "      <td id=\"T_45e1c_row4_col3\" class=\"data row4 col3\" >Medium</td>\n",
              "      <td id=\"T_45e1c_row4_col4\" class=\"data row4 col4\" >🟢 Low</td>\n",
              "      <td id=\"T_45e1c_row4_col5\" class=\"data row4 col5\" >Long-term improvement measure.</td>\n",
              "    </tr>\n",
              "  </tbody>\n",
              "</table>\n"
            ]
          },
          "metadata": {}
        },
        {
          "output_type": "stream",
          "name": "stdout",
          "text": [
            "\n",
            "\n"
          ]
        }
      ]
    },
    {
      "cell_type": "markdown",
      "source": [
        "---"
      ],
      "metadata": {
        "id": "-AkoIMPEzTw8"
      }
    },
    {
      "source": [
        "from google.colab import sheets\n",
        "sheet = sheets.InteractiveSheet(df=df)"
      ],
      "cell_type": "code",
      "execution_count": null,
      "outputs": [
        {
          "output_type": "stream",
          "name": "stdout",
          "text": [
            "https://docs.google.com/spreadsheets/d/1T1ukfToijxkjbd2zjLnfEZajl7-psgT3AigYJ6mGxNk#gid=0\n"
          ]
        },
        {
          "output_type": "display_data",
          "data": {
            "text/plain": [
              "<IPython.lib.display.IFrame at 0x7968a4e0b890>"
            ],
            "text/html": [
              "\n",
              "        <iframe\n",
              "            width=\"100%\"\n",
              "            height=\"600\"\n",
              "            src=\"https://docs.google.com/spreadsheets/d/1T1ukfToijxkjbd2zjLnfEZajl7-psgT3AigYJ6mGxNk#gid=0/edit?rm=embedded?usp=sharing?widget=true&amp;headers=false\"\n",
              "            frameborder=\"0\"\n",
              "            allowfullscreen\n",
              "            \n",
              "        ></iframe>\n",
              "        "
            ]
          },
          "metadata": {}
        }
      ],
      "metadata": {
        "cellView": "form",
        "colab": {
          "base_uri": "https://localhost:8080/",
          "height": 638
        },
        "id": "2Vlm76WLEfwr",
        "outputId": "5a95698b-872b-4573-9710-db47983aa116"
      }
    }
  ]
}